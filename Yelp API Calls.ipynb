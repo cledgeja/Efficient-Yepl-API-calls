{
 "cells": [
  {
   "cell_type": "markdown",
   "id": "6b6b82d9",
   "metadata": {},
   "source": [
    "# Using the [Yelp API](https://www.yelp.com/developers/documentation/v3/business_search)  to search a city by type.\n"
   ]
  },
  {
   "cell_type": "markdown",
   "id": "4fd3658e",
   "metadata": {},
   "source": [
    "## import libraries and api key\n",
    "    * login['yelp-api-key']"
   ]
  },
  {
   "cell_type": "code",
   "execution_count": 2,
   "id": "a7683f26",
   "metadata": {},
   "outputs": [],
   "source": [
    "import numpy as np\n",
    "import pandas as pd\n",
    "import matplotlib.pyplot as plt\n",
    "import seaborn as sns\n",
    "import os, json, math, time\n",
    "from yelpapi import YelpAPI\n",
    "from tqdm.notebook import tqdm_notebook"
   ]
  },
  {
   "cell_type": "code",
   "execution_count": 3,
   "id": "ac8f3d5d",
   "metadata": {},
   "outputs": [
    {
     "data": {
      "text/plain": [
       "dict_keys(['MySQL', 'yelp-id', 'yelp-api-key'])"
      ]
     },
     "execution_count": 3,
     "metadata": {},
     "output_type": "execute_result"
    }
   ],
   "source": [
    "KeyPath = %env CODINGDOJO\n",
    "with open(KeyPath) as f: \n",
    "    login = json.load(f)\n",
    "login.keys()"
   ]
  },
  {
   "cell_type": "markdown",
   "id": "c7c44359",
   "metadata": {},
   "source": [
    "## Execute API call"
   ]
  },
  {
   "cell_type": "code",
   "execution_count": 4,
   "id": "5ea590d3",
   "metadata": {},
   "outputs": [],
   "source": [
    "#environment variables\n",
    "location_state = 'CA'\n",
    "location_city = 'Cerritos' \n",
    "term_call = 'artificial turf installation'\n",
    "offset_call = 0\n",
    "Data_Dir = f\"Data/{location_state}/{location_city}/{term_call.replace(' ','_')}/\"\n",
    "json_file= 'data.json'\n",
    "json_path = Data_Dir+json_file\n"
   ]
  },
  {
   "cell_type": "code",
   "execution_count": 5,
   "id": "58a11b1d",
   "metadata": {},
   "outputs": [
    {
     "name": "stdout",
     "output_type": "stream",
     "text": [
      "data.json not found. Saving empty list to file.\n"
     ]
    }
   ],
   "source": [
    "# create data.json if does not exist in the appropriate directory\n",
    "file_exists = os.path.isfile(json_path)\n",
    "if file_exists == False:\n",
    "    os.makedirs(Data_Dir,exist_ok=True)\n",
    "    print(f\"{json_file} not found. Saving empty list to file.\")\n",
    "    with open(json_path,'w') as f:\n",
    "        json.dump([],f)  \n",
    "else:\n",
    "    print(f\"{json_file} exists, will add to file\")"
   ]
  },
  {
   "cell_type": "code",
   "execution_count": 6,
   "id": "a05f4014",
   "metadata": {},
   "outputs": [
    {
     "name": "stdout",
     "output_type": "stream",
     "text": [
      "- 0 previous results found.\n"
     ]
    }
   ],
   "source": [
    "# Open data.json to set offset based on previous results. \n",
    "with open(json_path,'r') as f:\n",
    "    previous_results = json.load(f)\n",
    "n_results = len(previous_results)\n",
    "print(f'- {n_results} previous results found.')"
   ]
  },
  {
   "cell_type": "code",
   "execution_count": 7,
   "id": "f554cdc9",
   "metadata": {},
   "outputs": [],
   "source": [
    "# connect with API key\n",
    "yelp_api = YelpAPI(login['yelp-api-key'], timeout_s=5.0)"
   ]
  },
  {
   "cell_type": "code",
   "execution_count": 8,
   "id": "b1ae129a",
   "metadata": {},
   "outputs": [
    {
     "data": {
      "text/plain": [
       "dict_keys(['businesses', 'total', 'region'])"
      ]
     },
     "execution_count": 8,
     "metadata": {},
     "output_type": "execute_result"
    }
   ],
   "source": [
    "#get results from yelp API\n",
    "results = yelp_api.search_query(location=location_city+', '+location_state,\n",
    "                                term=term_call,\n",
    "                                limit=50,\n",
    "                               offset=n_results)\n",
    "results.keys()"
   ]
  },
  {
   "cell_type": "code",
   "execution_count": 10,
   "id": "50e7f81a",
   "metadata": {},
   "outputs": [
    {
     "name": "stdout",
     "output_type": "stream",
     "text": [
      "19\n"
     ]
    }
   ],
   "source": [
    "# Calculate number of pages needed to get all results\n",
    "# This number will be used for the progress bar \n",
    "try:\n",
    "    n_pages = math.ceil(results['total']/ len(results['businesses']))\n",
    "    print(n_pages)\n",
    "except ZeroDivisionError:\n",
    "    n_pages = 1\n",
    "    print(\"No additional results\")\n",
    "    #No additional results."
   ]
  },
  {
   "cell_type": "code",
   "execution_count": 14,
   "id": "e038a3df",
   "metadata": {},
   "outputs": [
    {
     "data": {
      "application/vnd.jupyter.widget-view+json": {
       "model_id": "251cf3f7f3694c42ae0408ad1ef057f6",
       "version_major": 2,
       "version_minor": 0
      },
      "text/plain": [
       "  0%|          | 0/19 [00:00<?, ?it/s]"
      ]
     },
     "metadata": {},
     "output_type": "display_data"
    }
   ],
   "source": [
    "first_run = True\n",
    "for i in tqdm_notebook( range(1,n_pages+1)):\n",
    "    time.sleep(.2)\n",
    "    if n_results == 0 or first_run == True:\n",
    "    # append new results and save to file\n",
    "        previous_results.extend(results['businesses'])\n",
    "        with open(json_path,'w') as f:\n",
    "            json.dump(previous_results,f)\n",
    "        first_run = False\n",
    "        n_results = len(previous_results)\n",
    "    else:\n",
    "        with open(json_path, 'r') as f:\n",
    "            previous_results = json.load(f)\n",
    "            n_results = len(previous_results)\n",
    "            results = yelp_api.search_query(location=location_city+', '+location_state,\n",
    "                                            term=term_call,limit=50,offset=n_results)\n",
    "            previous_results.extend(results['businesses'])\n",
    "            with open(json_path,'w') as f:\n",
    "                json.dump(previous_results,f)\n",
    "        "
   ]
  },
  {
   "cell_type": "code",
   "execution_count": 15,
   "id": "b79f0104",
   "metadata": {},
   "outputs": [
    {
     "data": {
      "text/html": [
       "<div>\n",
       "<style scoped>\n",
       "    .dataframe tbody tr th:only-of-type {\n",
       "        vertical-align: middle;\n",
       "    }\n",
       "\n",
       "    .dataframe tbody tr th {\n",
       "        vertical-align: top;\n",
       "    }\n",
       "\n",
       "    .dataframe thead th {\n",
       "        text-align: right;\n",
       "    }\n",
       "</style>\n",
       "<table border=\"1\" class=\"dataframe\">\n",
       "  <thead>\n",
       "    <tr style=\"text-align: right;\">\n",
       "      <th></th>\n",
       "      <th>id</th>\n",
       "      <th>alias</th>\n",
       "      <th>name</th>\n",
       "      <th>image_url</th>\n",
       "      <th>is_closed</th>\n",
       "      <th>url</th>\n",
       "      <th>review_count</th>\n",
       "      <th>categories</th>\n",
       "      <th>rating</th>\n",
       "      <th>coordinates</th>\n",
       "      <th>transactions</th>\n",
       "      <th>location</th>\n",
       "      <th>phone</th>\n",
       "      <th>display_phone</th>\n",
       "      <th>distance</th>\n",
       "      <th>price</th>\n",
       "    </tr>\n",
       "  </thead>\n",
       "  <tbody>\n",
       "    <tr>\n",
       "      <th>0</th>\n",
       "      <td>q-E_xjVrRDPHN-DKcV00ZQ</td>\n",
       "      <td>grizzly-turf-orange-4</td>\n",
       "      <td>Grizzly Turf</td>\n",
       "      <td>https://s3-media3.fl.yelpcdn.com/bphoto/TMrO1c...</td>\n",
       "      <td>False</td>\n",
       "      <td>https://www.yelp.com/biz/grizzly-turf-orange-4...</td>\n",
       "      <td>360</td>\n",
       "      <td>[{'alias': 'landscaping', 'title': 'Landscapin...</td>\n",
       "      <td>5.0</td>\n",
       "      <td>{'latitude': 33.8186385, 'longitude': -117.828...</td>\n",
       "      <td>[]</td>\n",
       "      <td>{'address1': '', 'address2': None, 'address3':...</td>\n",
       "      <td>+18662378873</td>\n",
       "      <td>(866) 237-8873</td>\n",
       "      <td>22814.521408</td>\n",
       "      <td>NaN</td>\n",
       "    </tr>\n",
       "    <tr>\n",
       "      <th>1</th>\n",
       "      <td>6bBOsjaNvpON6EMjUEsVAQ</td>\n",
       "      <td>tough-turf-artesia-6</td>\n",
       "      <td>Tough Turf</td>\n",
       "      <td>https://s3-media2.fl.yelpcdn.com/bphoto/64FfNq...</td>\n",
       "      <td>False</td>\n",
       "      <td>https://www.yelp.com/biz/tough-turf-artesia-6?...</td>\n",
       "      <td>37</td>\n",
       "      <td>[{'alias': 'artificialturf', 'title': 'Artific...</td>\n",
       "      <td>5.0</td>\n",
       "      <td>{'latitude': 33.865012, 'longitude': -118.090254}</td>\n",
       "      <td>[]</td>\n",
       "      <td>{'address1': '18300 Gridley Rd', 'address2': N...</td>\n",
       "      <td>+17143428873</td>\n",
       "      <td>(714) 342-8873</td>\n",
       "      <td>1993.467410</td>\n",
       "      <td>NaN</td>\n",
       "    </tr>\n",
       "    <tr>\n",
       "      <th>2</th>\n",
       "      <td>1nSAoM71JOhjo8b4KxatKg</td>\n",
       "      <td>elite-artificial-grass-brea</td>\n",
       "      <td>Elite Artificial Grass</td>\n",
       "      <td>https://s3-media4.fl.yelpcdn.com/bphoto/XDO-8f...</td>\n",
       "      <td>False</td>\n",
       "      <td>https://www.yelp.com/biz/elite-artificial-gras...</td>\n",
       "      <td>201</td>\n",
       "      <td>[{'alias': 'artificialturf', 'title': 'Artific...</td>\n",
       "      <td>5.0</td>\n",
       "      <td>{'latitude': 33.92516580487358, 'longitude': -...</td>\n",
       "      <td>[]</td>\n",
       "      <td>{'address1': '411 W Lambert Rd', 'address2': '...</td>\n",
       "      <td>+17143320271</td>\n",
       "      <td>(714) 332-0271</td>\n",
       "      <td>16863.903785</td>\n",
       "      <td>NaN</td>\n",
       "    </tr>\n",
       "    <tr>\n",
       "      <th>3</th>\n",
       "      <td>2MU8A6VD3JWE4C0UevbpsA</td>\n",
       "      <td>mc-landscaping-lakewood-2</td>\n",
       "      <td>MC Landscaping</td>\n",
       "      <td>https://s3-media4.fl.yelpcdn.com/bphoto/BpINng...</td>\n",
       "      <td>False</td>\n",
       "      <td>https://www.yelp.com/biz/mc-landscaping-lakewo...</td>\n",
       "      <td>126</td>\n",
       "      <td>[{'alias': 'landscaping', 'title': 'Landscapin...</td>\n",
       "      <td>4.5</td>\n",
       "      <td>{'latitude': 33.85918742798152, 'longitude': -...</td>\n",
       "      <td>[]</td>\n",
       "      <td>{'address1': '5780 S St', 'address2': None, 'a...</td>\n",
       "      <td>+15622259460</td>\n",
       "      <td>(562) 225-9460</td>\n",
       "      <td>4713.074253</td>\n",
       "      <td>NaN</td>\n",
       "    </tr>\n",
       "    <tr>\n",
       "      <th>4</th>\n",
       "      <td>RtBCoWrbtjA6Kq6sQqFqUQ</td>\n",
       "      <td>always-green-turf-los-alamitos</td>\n",
       "      <td>Always Green Turf</td>\n",
       "      <td>https://s3-media4.fl.yelpcdn.com/bphoto/hY_eGI...</td>\n",
       "      <td>False</td>\n",
       "      <td>https://www.yelp.com/biz/always-green-turf-los...</td>\n",
       "      <td>55</td>\n",
       "      <td>[{'alias': 'landscaping', 'title': 'Landscapin...</td>\n",
       "      <td>5.0</td>\n",
       "      <td>{'latitude': 33.808837216795375, 'longitude': ...</td>\n",
       "      <td>[]</td>\n",
       "      <td>{'address1': '10611 Calle Lee D-129', 'address...</td>\n",
       "      <td>+17145877700</td>\n",
       "      <td>(714) 587-7700</td>\n",
       "      <td>6381.203603</td>\n",
       "      <td>NaN</td>\n",
       "    </tr>\n",
       "  </tbody>\n",
       "</table>\n",
       "</div>"
      ],
      "text/plain": [
       "                       id                           alias  \\\n",
       "0  q-E_xjVrRDPHN-DKcV00ZQ           grizzly-turf-orange-4   \n",
       "1  6bBOsjaNvpON6EMjUEsVAQ            tough-turf-artesia-6   \n",
       "2  1nSAoM71JOhjo8b4KxatKg     elite-artificial-grass-brea   \n",
       "3  2MU8A6VD3JWE4C0UevbpsA       mc-landscaping-lakewood-2   \n",
       "4  RtBCoWrbtjA6Kq6sQqFqUQ  always-green-turf-los-alamitos   \n",
       "\n",
       "                     name                                          image_url  \\\n",
       "0            Grizzly Turf  https://s3-media3.fl.yelpcdn.com/bphoto/TMrO1c...   \n",
       "1              Tough Turf  https://s3-media2.fl.yelpcdn.com/bphoto/64FfNq...   \n",
       "2  Elite Artificial Grass  https://s3-media4.fl.yelpcdn.com/bphoto/XDO-8f...   \n",
       "3          MC Landscaping  https://s3-media4.fl.yelpcdn.com/bphoto/BpINng...   \n",
       "4       Always Green Turf  https://s3-media4.fl.yelpcdn.com/bphoto/hY_eGI...   \n",
       "\n",
       "   is_closed                                                url  review_count  \\\n",
       "0      False  https://www.yelp.com/biz/grizzly-turf-orange-4...           360   \n",
       "1      False  https://www.yelp.com/biz/tough-turf-artesia-6?...            37   \n",
       "2      False  https://www.yelp.com/biz/elite-artificial-gras...           201   \n",
       "3      False  https://www.yelp.com/biz/mc-landscaping-lakewo...           126   \n",
       "4      False  https://www.yelp.com/biz/always-green-turf-los...            55   \n",
       "\n",
       "                                          categories  rating  \\\n",
       "0  [{'alias': 'landscaping', 'title': 'Landscapin...     5.0   \n",
       "1  [{'alias': 'artificialturf', 'title': 'Artific...     5.0   \n",
       "2  [{'alias': 'artificialturf', 'title': 'Artific...     5.0   \n",
       "3  [{'alias': 'landscaping', 'title': 'Landscapin...     4.5   \n",
       "4  [{'alias': 'landscaping', 'title': 'Landscapin...     5.0   \n",
       "\n",
       "                                         coordinates transactions  \\\n",
       "0  {'latitude': 33.8186385, 'longitude': -117.828...           []   \n",
       "1  {'latitude': 33.865012, 'longitude': -118.090254}           []   \n",
       "2  {'latitude': 33.92516580487358, 'longitude': -...           []   \n",
       "3  {'latitude': 33.85918742798152, 'longitude': -...           []   \n",
       "4  {'latitude': 33.808837216795375, 'longitude': ...           []   \n",
       "\n",
       "                                            location         phone  \\\n",
       "0  {'address1': '', 'address2': None, 'address3':...  +18662378873   \n",
       "1  {'address1': '18300 Gridley Rd', 'address2': N...  +17143428873   \n",
       "2  {'address1': '411 W Lambert Rd', 'address2': '...  +17143320271   \n",
       "3  {'address1': '5780 S St', 'address2': None, 'a...  +15622259460   \n",
       "4  {'address1': '10611 Calle Lee D-129', 'address...  +17145877700   \n",
       "\n",
       "    display_phone      distance price  \n",
       "0  (866) 237-8873  22814.521408   NaN  \n",
       "1  (714) 342-8873   1993.467410   NaN  \n",
       "2  (714) 332-0271  16863.903785   NaN  \n",
       "3  (562) 225-9460   4713.074253   NaN  \n",
       "4  (714) 587-7700   6381.203603   NaN  "
      ]
     },
     "metadata": {},
     "output_type": "display_data"
    },
    {
     "data": {
      "text/html": [
       "<div>\n",
       "<style scoped>\n",
       "    .dataframe tbody tr th:only-of-type {\n",
       "        vertical-align: middle;\n",
       "    }\n",
       "\n",
       "    .dataframe tbody tr th {\n",
       "        vertical-align: top;\n",
       "    }\n",
       "\n",
       "    .dataframe thead th {\n",
       "        text-align: right;\n",
       "    }\n",
       "</style>\n",
       "<table border=\"1\" class=\"dataframe\">\n",
       "  <thead>\n",
       "    <tr style=\"text-align: right;\">\n",
       "      <th></th>\n",
       "      <th>id</th>\n",
       "      <th>alias</th>\n",
       "      <th>name</th>\n",
       "      <th>image_url</th>\n",
       "      <th>is_closed</th>\n",
       "      <th>url</th>\n",
       "      <th>review_count</th>\n",
       "      <th>categories</th>\n",
       "      <th>rating</th>\n",
       "      <th>coordinates</th>\n",
       "      <th>transactions</th>\n",
       "      <th>location</th>\n",
       "      <th>phone</th>\n",
       "      <th>display_phone</th>\n",
       "      <th>distance</th>\n",
       "      <th>price</th>\n",
       "    </tr>\n",
       "  </thead>\n",
       "  <tbody>\n",
       "    <tr>\n",
       "      <th>913</th>\n",
       "      <td>IPxfXqanoeer_mWypyouNA</td>\n",
       "      <td>foregrounds-landscape-los-angeles-3</td>\n",
       "      <td>Foregrounds Landscape</td>\n",
       "      <td>https://s3-media4.fl.yelpcdn.com/bphoto/1i9RqU...</td>\n",
       "      <td>False</td>\n",
       "      <td>https://www.yelp.com/biz/foregrounds-landscape...</td>\n",
       "      <td>18</td>\n",
       "      <td>[{'alias': 'landscaping', 'title': 'Landscapin...</td>\n",
       "      <td>5.0</td>\n",
       "      <td>{'latitude': 34.02945, 'longitude': -118.35494}</td>\n",
       "      <td>[]</td>\n",
       "      <td>{'address1': '', 'address2': None, 'address3':...</td>\n",
       "      <td>+13106931703</td>\n",
       "      <td>(310) 693-1703</td>\n",
       "      <td>31614.761708</td>\n",
       "      <td>NaN</td>\n",
       "    </tr>\n",
       "    <tr>\n",
       "      <th>914</th>\n",
       "      <td>Ei0X-mUgfrT4-od3G5a9TA</td>\n",
       "      <td>be-green-landscaping-los-angeles-3</td>\n",
       "      <td>Be Green Landscaping</td>\n",
       "      <td>https://s3-media3.fl.yelpcdn.com/bphoto/RNWJvY...</td>\n",
       "      <td>False</td>\n",
       "      <td>https://www.yelp.com/biz/be-green-landscaping-...</td>\n",
       "      <td>5</td>\n",
       "      <td>[{'alias': 'landscaping', 'title': 'Landscapin...</td>\n",
       "      <td>2.0</td>\n",
       "      <td>{'latitude': 34.2499196, 'longitude': -118.600...</td>\n",
       "      <td>[]</td>\n",
       "      <td>{'address1': '21610 Lassen St', 'address2': 'S...</td>\n",
       "      <td>+18882478911</td>\n",
       "      <td>(888) 247-8911</td>\n",
       "      <td>65011.581178</td>\n",
       "      <td>NaN</td>\n",
       "    </tr>\n",
       "    <tr>\n",
       "      <th>915</th>\n",
       "      <td>q4wxINNNHL47AQTGYlNWIQ</td>\n",
       "      <td>global-landscaping-etiwanda</td>\n",
       "      <td>Global Landscaping</td>\n",
       "      <td>https://s3-media1.fl.yelpcdn.com/bphoto/Bl2kTH...</td>\n",
       "      <td>False</td>\n",
       "      <td>https://www.yelp.com/biz/global-landscaping-et...</td>\n",
       "      <td>3</td>\n",
       "      <td>[{'alias': 'landscaping', 'title': 'Landscapin...</td>\n",
       "      <td>1.0</td>\n",
       "      <td>{'latitude': 34.1425059921, 'longitude': -117....</td>\n",
       "      <td>[]</td>\n",
       "      <td>{'address1': None, 'address2': None, 'address3...</td>\n",
       "      <td>+19097583158</td>\n",
       "      <td>(909) 758-3158</td>\n",
       "      <td>59461.663416</td>\n",
       "      <td>NaN</td>\n",
       "    </tr>\n",
       "    <tr>\n",
       "      <th>916</th>\n",
       "      <td>lFMajkK_9t1W-r0B4P4MHA</td>\n",
       "      <td>reyes-waterfalls-el-cajon-4</td>\n",
       "      <td>Reyes Waterfalls</td>\n",
       "      <td>https://s3-media3.fl.yelpcdn.com/bphoto/WU6r9a...</td>\n",
       "      <td>False</td>\n",
       "      <td>https://www.yelp.com/biz/reyes-waterfalls-el-c...</td>\n",
       "      <td>12</td>\n",
       "      <td>[{'alias': 'landscaping', 'title': 'Landscapin...</td>\n",
       "      <td>2.5</td>\n",
       "      <td>{'latitude': 32.791524, 'longitude': -116.94795}</td>\n",
       "      <td>[]</td>\n",
       "      <td>{'address1': '333 S Anza St', 'address2': None...</td>\n",
       "      <td>+16196312808</td>\n",
       "      <td>(619) 631-2808</td>\n",
       "      <td>158442.493603</td>\n",
       "      <td>NaN</td>\n",
       "    </tr>\n",
       "    <tr>\n",
       "      <th>917</th>\n",
       "      <td>n_1XKmnp7rFbE8xJNjZtEw</td>\n",
       "      <td>avp-landscape-design-group-riverside-3</td>\n",
       "      <td>AVP Landscape Design Group</td>\n",
       "      <td>https://s3-media3.fl.yelpcdn.com/bphoto/OXlwXa...</td>\n",
       "      <td>False</td>\n",
       "      <td>https://www.yelp.com/biz/avp-landscape-design-...</td>\n",
       "      <td>5</td>\n",
       "      <td>[{'alias': 'landscaping', 'title': 'Landscapin...</td>\n",
       "      <td>2.5</td>\n",
       "      <td>{'latitude': 33.94259, 'longitude': -117.45739}</td>\n",
       "      <td>[]</td>\n",
       "      <td>{'address1': '', 'address2': None, 'address3':...</td>\n",
       "      <td>+16266186045</td>\n",
       "      <td>(626) 618-6045</td>\n",
       "      <td>57716.169411</td>\n",
       "      <td>NaN</td>\n",
       "    </tr>\n",
       "  </tbody>\n",
       "</table>\n",
       "</div>"
      ],
      "text/plain": [
       "                         id                                   alias  \\\n",
       "913  IPxfXqanoeer_mWypyouNA     foregrounds-landscape-los-angeles-3   \n",
       "914  Ei0X-mUgfrT4-od3G5a9TA      be-green-landscaping-los-angeles-3   \n",
       "915  q4wxINNNHL47AQTGYlNWIQ             global-landscaping-etiwanda   \n",
       "916  lFMajkK_9t1W-r0B4P4MHA             reyes-waterfalls-el-cajon-4   \n",
       "917  n_1XKmnp7rFbE8xJNjZtEw  avp-landscape-design-group-riverside-3   \n",
       "\n",
       "                           name  \\\n",
       "913       Foregrounds Landscape   \n",
       "914        Be Green Landscaping   \n",
       "915          Global Landscaping   \n",
       "916            Reyes Waterfalls   \n",
       "917  AVP Landscape Design Group   \n",
       "\n",
       "                                             image_url  is_closed  \\\n",
       "913  https://s3-media4.fl.yelpcdn.com/bphoto/1i9RqU...      False   \n",
       "914  https://s3-media3.fl.yelpcdn.com/bphoto/RNWJvY...      False   \n",
       "915  https://s3-media1.fl.yelpcdn.com/bphoto/Bl2kTH...      False   \n",
       "916  https://s3-media3.fl.yelpcdn.com/bphoto/WU6r9a...      False   \n",
       "917  https://s3-media3.fl.yelpcdn.com/bphoto/OXlwXa...      False   \n",
       "\n",
       "                                                   url  review_count  \\\n",
       "913  https://www.yelp.com/biz/foregrounds-landscape...            18   \n",
       "914  https://www.yelp.com/biz/be-green-landscaping-...             5   \n",
       "915  https://www.yelp.com/biz/global-landscaping-et...             3   \n",
       "916  https://www.yelp.com/biz/reyes-waterfalls-el-c...            12   \n",
       "917  https://www.yelp.com/biz/avp-landscape-design-...             5   \n",
       "\n",
       "                                            categories  rating  \\\n",
       "913  [{'alias': 'landscaping', 'title': 'Landscapin...     5.0   \n",
       "914  [{'alias': 'landscaping', 'title': 'Landscapin...     2.0   \n",
       "915  [{'alias': 'landscaping', 'title': 'Landscapin...     1.0   \n",
       "916  [{'alias': 'landscaping', 'title': 'Landscapin...     2.5   \n",
       "917  [{'alias': 'landscaping', 'title': 'Landscapin...     2.5   \n",
       "\n",
       "                                           coordinates transactions  \\\n",
       "913    {'latitude': 34.02945, 'longitude': -118.35494}           []   \n",
       "914  {'latitude': 34.2499196, 'longitude': -118.600...           []   \n",
       "915  {'latitude': 34.1425059921, 'longitude': -117....           []   \n",
       "916   {'latitude': 32.791524, 'longitude': -116.94795}           []   \n",
       "917    {'latitude': 33.94259, 'longitude': -117.45739}           []   \n",
       "\n",
       "                                              location         phone  \\\n",
       "913  {'address1': '', 'address2': None, 'address3':...  +13106931703   \n",
       "914  {'address1': '21610 Lassen St', 'address2': 'S...  +18882478911   \n",
       "915  {'address1': None, 'address2': None, 'address3...  +19097583158   \n",
       "916  {'address1': '333 S Anza St', 'address2': None...  +16196312808   \n",
       "917  {'address1': '', 'address2': None, 'address3':...  +16266186045   \n",
       "\n",
       "      display_phone       distance price  \n",
       "913  (310) 693-1703   31614.761708   NaN  \n",
       "914  (888) 247-8911   65011.581178   NaN  \n",
       "915  (909) 758-3158   59461.663416   NaN  \n",
       "916  (619) 631-2808  158442.493603   NaN  \n",
       "917  (626) 618-6045   57716.169411   NaN  "
      ]
     },
     "metadata": {},
     "output_type": "display_data"
    }
   ],
   "source": [
    "# load final results\n",
    "final_df = pd.read_json(json_path)\n",
    "display(final_df.head(), final_df.tail())"
   ]
  },
  {
   "cell_type": "code",
   "execution_count": 16,
   "id": "264e6ee0",
   "metadata": {},
   "outputs": [
    {
     "name": "stdout",
     "output_type": "stream",
     "text": [
      "<class 'pandas.core.frame.DataFrame'>\n",
      "RangeIndex: 918 entries, 0 to 917\n",
      "Data columns (total 16 columns):\n",
      " #   Column         Non-Null Count  Dtype  \n",
      "---  ------         --------------  -----  \n",
      " 0   id             918 non-null    object \n",
      " 1   alias          918 non-null    object \n",
      " 2   name           918 non-null    object \n",
      " 3   image_url      918 non-null    object \n",
      " 4   is_closed      918 non-null    bool   \n",
      " 5   url            918 non-null    object \n",
      " 6   review_count   918 non-null    int64  \n",
      " 7   categories     918 non-null    object \n",
      " 8   rating         918 non-null    float64\n",
      " 9   coordinates    918 non-null    object \n",
      " 10  transactions   918 non-null    object \n",
      " 11  location       918 non-null    object \n",
      " 12  phone          918 non-null    object \n",
      " 13  display_phone  918 non-null    object \n",
      " 14  distance       918 non-null    float64\n",
      " 15  price          11 non-null     object \n",
      "dtypes: bool(1), float64(2), int64(1), object(12)\n",
      "memory usage: 108.6+ KB\n"
     ]
    }
   ],
   "source": [
    "final_df.info()"
   ]
  },
  {
   "cell_type": "code",
   "execution_count": 17,
   "id": "17305094",
   "metadata": {},
   "outputs": [
    {
     "data": {
      "text/plain": [
       "0"
      ]
     },
     "execution_count": 17,
     "metadata": {},
     "output_type": "execute_result"
    }
   ],
   "source": [
    "final_df.duplicated(subset='id').sum()"
   ]
  },
  {
   "cell_type": "code",
   "execution_count": 19,
   "id": "699822d1",
   "metadata": {},
   "outputs": [],
   "source": [
    "final_df.to_csv(f'{Data_Dir}data.csv',index=False)"
   ]
  },
  {
   "cell_type": "code",
   "execution_count": null,
   "id": "e44c9c0f",
   "metadata": {},
   "outputs": [],
   "source": []
  }
 ],
 "metadata": {
  "kernelspec": {
   "display_name": "Python (dojo-env)",
   "language": "python",
   "name": "dojo-env"
  },
  "language_info": {
   "codemirror_mode": {
    "name": "ipython",
    "version": 3
   },
   "file_extension": ".py",
   "mimetype": "text/x-python",
   "name": "python",
   "nbconvert_exporter": "python",
   "pygments_lexer": "ipython3",
   "version": "3.8.13"
  },
  "toc": {
   "base_numbering": 1,
   "nav_menu": {},
   "number_sections": true,
   "sideBar": true,
   "skip_h1_title": false,
   "title_cell": "Table of Contents",
   "title_sidebar": "Contents",
   "toc_cell": false,
   "toc_position": {},
   "toc_section_display": true,
   "toc_window_display": false
  }
 },
 "nbformat": 4,
 "nbformat_minor": 5
}
